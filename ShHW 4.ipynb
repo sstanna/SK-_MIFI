{
 "cells": [
  {
   "cell_type": "code",
   "execution_count": 95,
   "metadata": {},
   "outputs": [],
   "source": [
    "import pandas as pd"
   ]
  },
  {
   "cell_type": "markdown",
   "metadata": {},
   "source": [
    " \n",
    "## Описание данных\n",
    "\n",
    "Для выполнения задания вам необходимы файлы `train.csv`, `lectures.csv`, `questions.csv`.\n",
    "\n",
    "### train.csv\n",
    "- **row_id**: (int64) ID строки.\n",
    "- **timestamp**: (int64) время в миллисекундах между этим взаимодействием пользователя и первым завершенным событием этого пользователя.\n",
    "- **user_id**: (int32) ID пользователя.\n",
    "- **content_id**: (int16) ID контента, с которым взаимодействует пользователь.\n",
    "- **content_type_id**: (int8) 0, если событие — это вопрос, заданный пользователю, 1, если событие — это лекция, которую смотрит пользователь.\n",
    "- **task_container_id**: (int16) ID группы вопросов или лекций. Например, пользователь может увидеть три вопроса подряд перед тем, как увидеть объяснения. Эти три вопроса будут иметь один и тот же `task_container_id`.\n",
    "- **user_answer**: (int8) ответ пользователя на вопрос, если он есть. Читайте -1 как null для лекций.\n",
    "- **answered_correctly**: (int8) правильно ли ответил пользователь. Читайте -1 как null для лекций.\n",
    "- **prior_question_elapsed_time**: (float32) среднее время в миллисекундах, которое потребовалось пользователю для ответа на каждый вопрос в предыдущем наборе вопросов, игнорируя любые лекции между ними. Null для первого набора вопросов или лекции пользователя.\n",
    "- **prior_question_had_explanation**: (bool) видел ли пользователь объяснение и правильный ответ после ответа на предыдущий набор вопросов, игнорируя любые лекции между ними. Значение общее для всего набора вопросов и null для первого набора вопросов или лекции пользователя.\n",
    "\n",
    "### questions.csv\n",
    "Метаданные для вопросов, заданных пользователям.\n",
    "- **question_id**: внешний ключ для столбца `content_id` в `train/test`, когда тип контента — вопрос (0).\n",
    "- **bundle_id**: код для группы вопросов, которые подаются вместе.\n",
    "- **correct_answer**: правильный ответ на вопрос. Можно сравнить с `user_answer` в `train`, чтобы проверить, был ли пользователь прав.\n",
    "- **part**: соответствующий раздел теста TOEIC.\n",
    "- **tags**: один или несколько детализированных кодов тегов для вопроса. Значение тегов не предоставляется, но эти коды достаточны для кластеризации вопросов.\n",
    "\n",
    "### lectures.csv\n",
    "Метаданные для лекций, которые смотрят пользователи в процессе обучения.\n",
    "- **lecture_id**: внешний ключ для столбца `content_id` в `train/test`, когда тип контента — лекция (1).\n",
    "- **part**: код верхнего уровня категории для лекции.\n",
    "- **tag**: один код тега для лекции. Значение тегов не предоставляется, но эти коды достаточны для кластеризации лекций.\n",
    "- **type_of**: краткое описание основной цели лекции.\n",
    "\n"
   ]
  },
  {
   "cell_type": "markdown",
   "metadata": {},
   "source": [
    "## lectures.csv"
   ]
  },
  {
   "cell_type": "code",
   "execution_count": 96,
   "metadata": {},
   "outputs": [
    {
     "data": {
      "text/html": [
       "<div>\n",
       "<style scoped>\n",
       "    .dataframe tbody tr th:only-of-type {\n",
       "        vertical-align: middle;\n",
       "    }\n",
       "\n",
       "    .dataframe tbody tr th {\n",
       "        vertical-align: top;\n",
       "    }\n",
       "\n",
       "    .dataframe thead th {\n",
       "        text-align: right;\n",
       "    }\n",
       "</style>\n",
       "<table border=\"1\" class=\"dataframe\">\n",
       "  <thead>\n",
       "    <tr style=\"text-align: right;\">\n",
       "      <th></th>\n",
       "      <th>lecture_id</th>\n",
       "      <th>tag</th>\n",
       "      <th>part</th>\n",
       "      <th>type_of</th>\n",
       "    </tr>\n",
       "  </thead>\n",
       "  <tbody>\n",
       "    <tr>\n",
       "      <th>0</th>\n",
       "      <td>89</td>\n",
       "      <td>159</td>\n",
       "      <td>5</td>\n",
       "      <td>concept</td>\n",
       "    </tr>\n",
       "    <tr>\n",
       "      <th>1</th>\n",
       "      <td>100</td>\n",
       "      <td>70</td>\n",
       "      <td>1</td>\n",
       "      <td>concept</td>\n",
       "    </tr>\n",
       "    <tr>\n",
       "      <th>2</th>\n",
       "      <td>185</td>\n",
       "      <td>45</td>\n",
       "      <td>6</td>\n",
       "      <td>concept</td>\n",
       "    </tr>\n",
       "    <tr>\n",
       "      <th>3</th>\n",
       "      <td>192</td>\n",
       "      <td>79</td>\n",
       "      <td>5</td>\n",
       "      <td>solving question</td>\n",
       "    </tr>\n",
       "    <tr>\n",
       "      <th>4</th>\n",
       "      <td>317</td>\n",
       "      <td>156</td>\n",
       "      <td>5</td>\n",
       "      <td>solving question</td>\n",
       "    </tr>\n",
       "    <tr>\n",
       "      <th>...</th>\n",
       "      <td>...</td>\n",
       "      <td>...</td>\n",
       "      <td>...</td>\n",
       "      <td>...</td>\n",
       "    </tr>\n",
       "    <tr>\n",
       "      <th>413</th>\n",
       "      <td>32535</td>\n",
       "      <td>8</td>\n",
       "      <td>5</td>\n",
       "      <td>solving question</td>\n",
       "    </tr>\n",
       "    <tr>\n",
       "      <th>414</th>\n",
       "      <td>32570</td>\n",
       "      <td>113</td>\n",
       "      <td>3</td>\n",
       "      <td>solving question</td>\n",
       "    </tr>\n",
       "    <tr>\n",
       "      <th>415</th>\n",
       "      <td>32604</td>\n",
       "      <td>24</td>\n",
       "      <td>6</td>\n",
       "      <td>concept</td>\n",
       "    </tr>\n",
       "    <tr>\n",
       "      <th>416</th>\n",
       "      <td>32625</td>\n",
       "      <td>142</td>\n",
       "      <td>2</td>\n",
       "      <td>concept</td>\n",
       "    </tr>\n",
       "    <tr>\n",
       "      <th>417</th>\n",
       "      <td>32736</td>\n",
       "      <td>82</td>\n",
       "      <td>3</td>\n",
       "      <td>concept</td>\n",
       "    </tr>\n",
       "  </tbody>\n",
       "</table>\n",
       "<p>418 rows × 4 columns</p>\n",
       "</div>"
      ],
      "text/plain": [
       "     lecture_id  tag  part           type_of\n",
       "0            89  159     5           concept\n",
       "1           100   70     1           concept\n",
       "2           185   45     6           concept\n",
       "3           192   79     5  solving question\n",
       "4           317  156     5  solving question\n",
       "..          ...  ...   ...               ...\n",
       "413       32535    8     5  solving question\n",
       "414       32570  113     3  solving question\n",
       "415       32604   24     6           concept\n",
       "416       32625  142     2           concept\n",
       "417       32736   82     3           concept\n",
       "\n",
       "[418 rows x 4 columns]"
      ]
     },
     "execution_count": 96,
     "metadata": {},
     "output_type": "execute_result"
    }
   ],
   "source": [
    "lectures = pd.read_csv('C:\\skilfactory\\lectures.csv', sep=',')\n",
    "lectures"
   ]
  },
  {
   "cell_type": "markdown",
   "metadata": {},
   "source": [
    " ### Общая информация о DataFrame"
   ]
  },
  {
   "cell_type": "code",
   "execution_count": 97,
   "metadata": {},
   "outputs": [
    {
     "name": "stdout",
     "output_type": "stream",
     "text": [
      "<class 'pandas.core.frame.DataFrame'>\n",
      "RangeIndex: 418 entries, 0 to 417\n",
      "Data columns (total 4 columns):\n",
      " #   Column      Non-Null Count  Dtype \n",
      "---  ------      --------------  ----- \n",
      " 0   lecture_id  418 non-null    int64 \n",
      " 1   tag         418 non-null    int64 \n",
      " 2   part        418 non-null    int64 \n",
      " 3   type_of     418 non-null    object\n",
      "dtypes: int64(3), object(1)\n",
      "memory usage: 13.2+ KB\n"
     ]
    }
   ],
   "source": [
    "lectures.info()"
   ]
  },
  {
   "cell_type": "markdown",
   "metadata": {},
   "source": [
    "### Описательная статистика"
   ]
  },
  {
   "cell_type": "code",
   "execution_count": 98,
   "metadata": {},
   "outputs": [
    {
     "data": {
      "text/html": [
       "<div>\n",
       "<style scoped>\n",
       "    .dataframe tbody tr th:only-of-type {\n",
       "        vertical-align: middle;\n",
       "    }\n",
       "\n",
       "    .dataframe tbody tr th {\n",
       "        vertical-align: top;\n",
       "    }\n",
       "\n",
       "    .dataframe thead th {\n",
       "        text-align: right;\n",
       "    }\n",
       "</style>\n",
       "<table border=\"1\" class=\"dataframe\">\n",
       "  <thead>\n",
       "    <tr style=\"text-align: right;\">\n",
       "      <th></th>\n",
       "      <th>type_of</th>\n",
       "    </tr>\n",
       "  </thead>\n",
       "  <tbody>\n",
       "    <tr>\n",
       "      <th>count</th>\n",
       "      <td>418</td>\n",
       "    </tr>\n",
       "    <tr>\n",
       "      <th>unique</th>\n",
       "      <td>4</td>\n",
       "    </tr>\n",
       "    <tr>\n",
       "      <th>top</th>\n",
       "      <td>concept</td>\n",
       "    </tr>\n",
       "    <tr>\n",
       "      <th>freq</th>\n",
       "      <td>222</td>\n",
       "    </tr>\n",
       "  </tbody>\n",
       "</table>\n",
       "</div>"
      ],
      "text/plain": [
       "        type_of\n",
       "count       418\n",
       "unique        4\n",
       "top     concept\n",
       "freq        222"
      ]
     },
     "execution_count": 98,
     "metadata": {},
     "output_type": "execute_result"
    }
   ],
   "source": [
    "lectures.describe(include='object')"
   ]
  },
  {
   "cell_type": "code",
   "execution_count": 99,
   "metadata": {},
   "outputs": [
    {
     "data": {
      "text/html": [
       "<div>\n",
       "<style scoped>\n",
       "    .dataframe tbody tr th:only-of-type {\n",
       "        vertical-align: middle;\n",
       "    }\n",
       "\n",
       "    .dataframe tbody tr th {\n",
       "        vertical-align: top;\n",
       "    }\n",
       "\n",
       "    .dataframe thead th {\n",
       "        text-align: right;\n",
       "    }\n",
       "</style>\n",
       "<table border=\"1\" class=\"dataframe\">\n",
       "  <thead>\n",
       "    <tr style=\"text-align: right;\">\n",
       "      <th></th>\n",
       "      <th>lecture_id</th>\n",
       "      <th>tag</th>\n",
       "      <th>part</th>\n",
       "    </tr>\n",
       "  </thead>\n",
       "  <tbody>\n",
       "    <tr>\n",
       "      <th>count</th>\n",
       "      <td>418.000000</td>\n",
       "      <td>418.000000</td>\n",
       "      <td>418.000000</td>\n",
       "    </tr>\n",
       "    <tr>\n",
       "      <th>mean</th>\n",
       "      <td>16983.401914</td>\n",
       "      <td>94.480861</td>\n",
       "      <td>4.267943</td>\n",
       "    </tr>\n",
       "    <tr>\n",
       "      <th>std</th>\n",
       "      <td>9426.164660</td>\n",
       "      <td>53.586487</td>\n",
       "      <td>1.872424</td>\n",
       "    </tr>\n",
       "    <tr>\n",
       "      <th>min</th>\n",
       "      <td>89.000000</td>\n",
       "      <td>0.000000</td>\n",
       "      <td>1.000000</td>\n",
       "    </tr>\n",
       "    <tr>\n",
       "      <th>25%</th>\n",
       "      <td>9026.250000</td>\n",
       "      <td>50.250000</td>\n",
       "      <td>2.000000</td>\n",
       "    </tr>\n",
       "    <tr>\n",
       "      <th>50%</th>\n",
       "      <td>17161.500000</td>\n",
       "      <td>94.500000</td>\n",
       "      <td>5.000000</td>\n",
       "    </tr>\n",
       "    <tr>\n",
       "      <th>75%</th>\n",
       "      <td>24906.250000</td>\n",
       "      <td>140.000000</td>\n",
       "      <td>6.000000</td>\n",
       "    </tr>\n",
       "    <tr>\n",
       "      <th>max</th>\n",
       "      <td>32736.000000</td>\n",
       "      <td>187.000000</td>\n",
       "      <td>7.000000</td>\n",
       "    </tr>\n",
       "  </tbody>\n",
       "</table>\n",
       "</div>"
      ],
      "text/plain": [
       "         lecture_id         tag        part\n",
       "count    418.000000  418.000000  418.000000\n",
       "mean   16983.401914   94.480861    4.267943\n",
       "std     9426.164660   53.586487    1.872424\n",
       "min       89.000000    0.000000    1.000000\n",
       "25%     9026.250000   50.250000    2.000000\n",
       "50%    17161.500000   94.500000    5.000000\n",
       "75%    24906.250000  140.000000    6.000000\n",
       "max    32736.000000  187.000000    7.000000"
      ]
     },
     "execution_count": 99,
     "metadata": {},
     "output_type": "execute_result"
    }
   ],
   "source": [
    "lectures.describe()"
   ]
  },
  {
   "cell_type": "markdown",
   "metadata": {},
   "source": [
    "В данных есть 4 уникальных типа лекций, и наиболее часто встречающийся тип - “concept”, который появляется 222 раза."
   ]
  },
  {
   "cell_type": "markdown",
   "metadata": {},
   "source": [
    "### Проверка на пропущенные значения"
   ]
  },
  {
   "cell_type": "code",
   "execution_count": 100,
   "metadata": {},
   "outputs": [
    {
     "data": {
      "text/plain": [
       "lecture_id    0\n",
       "tag           0\n",
       "part          0\n",
       "type_of       0\n",
       "dtype: int64"
      ]
     },
     "execution_count": 100,
     "metadata": {},
     "output_type": "execute_result"
    }
   ],
   "source": [
    "lectures.isnull().sum()"
   ]
  },
  {
   "cell_type": "markdown",
   "metadata": {},
   "source": [
    "### Уникальные значения"
   ]
  },
  {
   "cell_type": "code",
   "execution_count": 101,
   "metadata": {},
   "outputs": [
    {
     "data": {
      "text/plain": [
       "lecture_id    418\n",
       "tag           151\n",
       "part            7\n",
       "type_of         4\n",
       "dtype: int64"
      ]
     },
     "execution_count": 101,
     "metadata": {},
     "output_type": "execute_result"
    }
   ],
   "source": [
    "lectures.nunique()"
   ]
  },
  {
   "cell_type": "markdown",
   "metadata": {},
   "source": [
    "### Распределение значений"
   ]
  },
  {
   "cell_type": "code",
   "execution_count": 102,
   "metadata": {},
   "outputs": [
    {
     "data": {
      "text/plain": [
       "concept             222\n",
       "solving question    186\n",
       "intention             7\n",
       "starter               3\n",
       "Name: type_of, dtype: int64"
      ]
     },
     "execution_count": 102,
     "metadata": {},
     "output_type": "execute_result"
    }
   ],
   "source": [
    "lectures['type_of'].value_counts()"
   ]
  },
  {
   "cell_type": "markdown",
   "metadata": {},
   "source": [
    "###  Вопросы распределены по различным частям теста TOEIC"
   ]
  },
  {
   "cell_type": "code",
   "execution_count": 103,
   "metadata": {},
   "outputs": [
    {
     "data": {
      "text/plain": [
       "5    143\n",
       "6     83\n",
       "2     56\n",
       "1     54\n",
       "7     32\n",
       "4     31\n",
       "3     19\n",
       "Name: part, dtype: int64"
      ]
     },
     "execution_count": 103,
     "metadata": {},
     "output_type": "execute_result"
    }
   ],
   "source": [
    "lectures['part'].value_counts()"
   ]
  },
  {
   "cell_type": "code",
   "execution_count": 104,
   "metadata": {},
   "outputs": [
    {
     "data": {
      "text/plain": [
       "136    7\n",
       "116    6\n",
       "134    6\n",
       "27     6\n",
       "161    6\n",
       "      ..\n",
       "99     1\n",
       "57     1\n",
       "90     1\n",
       "83     1\n",
       "187    1\n",
       "Name: tag, Length: 151, dtype: int64"
      ]
     },
     "execution_count": 104,
     "metadata": {},
     "output_type": "execute_result"
    }
   ],
   "source": [
    "lectures['tag'].value_counts()"
   ]
  },
  {
   "cell_type": "markdown",
   "metadata": {},
   "source": [
    "Наиболее частые теги:\n",
    "136: 7\n",
    "116: 6\n",
    "134: 6\n",
    "27: 6\n",
    "161: 6"
   ]
  },
  {
   "cell_type": "markdown",
   "metadata": {},
   "source": [
    "## questions.csv"
   ]
  },
  {
   "cell_type": "code",
   "execution_count": 105,
   "metadata": {},
   "outputs": [
    {
     "data": {
      "text/html": [
       "<div>\n",
       "<style scoped>\n",
       "    .dataframe tbody tr th:only-of-type {\n",
       "        vertical-align: middle;\n",
       "    }\n",
       "\n",
       "    .dataframe tbody tr th {\n",
       "        vertical-align: top;\n",
       "    }\n",
       "\n",
       "    .dataframe thead th {\n",
       "        text-align: right;\n",
       "    }\n",
       "</style>\n",
       "<table border=\"1\" class=\"dataframe\">\n",
       "  <thead>\n",
       "    <tr style=\"text-align: right;\">\n",
       "      <th></th>\n",
       "      <th>question_id</th>\n",
       "      <th>bundle_id</th>\n",
       "      <th>correct_answer</th>\n",
       "      <th>part</th>\n",
       "      <th>tags</th>\n",
       "    </tr>\n",
       "  </thead>\n",
       "  <tbody>\n",
       "    <tr>\n",
       "      <th>0</th>\n",
       "      <td>0</td>\n",
       "      <td>0</td>\n",
       "      <td>0</td>\n",
       "      <td>1</td>\n",
       "      <td>51 131 162 38</td>\n",
       "    </tr>\n",
       "    <tr>\n",
       "      <th>1</th>\n",
       "      <td>1</td>\n",
       "      <td>1</td>\n",
       "      <td>1</td>\n",
       "      <td>1</td>\n",
       "      <td>131 36 81</td>\n",
       "    </tr>\n",
       "    <tr>\n",
       "      <th>2</th>\n",
       "      <td>2</td>\n",
       "      <td>2</td>\n",
       "      <td>0</td>\n",
       "      <td>1</td>\n",
       "      <td>131 101 162 92</td>\n",
       "    </tr>\n",
       "    <tr>\n",
       "      <th>3</th>\n",
       "      <td>3</td>\n",
       "      <td>3</td>\n",
       "      <td>0</td>\n",
       "      <td>1</td>\n",
       "      <td>131 149 162 29</td>\n",
       "    </tr>\n",
       "    <tr>\n",
       "      <th>4</th>\n",
       "      <td>4</td>\n",
       "      <td>4</td>\n",
       "      <td>3</td>\n",
       "      <td>1</td>\n",
       "      <td>131 5 162 38</td>\n",
       "    </tr>\n",
       "    <tr>\n",
       "      <th>...</th>\n",
       "      <td>...</td>\n",
       "      <td>...</td>\n",
       "      <td>...</td>\n",
       "      <td>...</td>\n",
       "      <td>...</td>\n",
       "    </tr>\n",
       "    <tr>\n",
       "      <th>13518</th>\n",
       "      <td>13518</td>\n",
       "      <td>13518</td>\n",
       "      <td>3</td>\n",
       "      <td>5</td>\n",
       "      <td>14</td>\n",
       "    </tr>\n",
       "    <tr>\n",
       "      <th>13519</th>\n",
       "      <td>13519</td>\n",
       "      <td>13519</td>\n",
       "      <td>3</td>\n",
       "      <td>5</td>\n",
       "      <td>8</td>\n",
       "    </tr>\n",
       "    <tr>\n",
       "      <th>13520</th>\n",
       "      <td>13520</td>\n",
       "      <td>13520</td>\n",
       "      <td>2</td>\n",
       "      <td>5</td>\n",
       "      <td>73</td>\n",
       "    </tr>\n",
       "    <tr>\n",
       "      <th>13521</th>\n",
       "      <td>13521</td>\n",
       "      <td>13521</td>\n",
       "      <td>0</td>\n",
       "      <td>5</td>\n",
       "      <td>125</td>\n",
       "    </tr>\n",
       "    <tr>\n",
       "      <th>13522</th>\n",
       "      <td>13522</td>\n",
       "      <td>13522</td>\n",
       "      <td>3</td>\n",
       "      <td>5</td>\n",
       "      <td>55</td>\n",
       "    </tr>\n",
       "  </tbody>\n",
       "</table>\n",
       "<p>13523 rows × 5 columns</p>\n",
       "</div>"
      ],
      "text/plain": [
       "       question_id  bundle_id  correct_answer  part            tags\n",
       "0                0          0               0     1   51 131 162 38\n",
       "1                1          1               1     1       131 36 81\n",
       "2                2          2               0     1  131 101 162 92\n",
       "3                3          3               0     1  131 149 162 29\n",
       "4                4          4               3     1    131 5 162 38\n",
       "...            ...        ...             ...   ...             ...\n",
       "13518        13518      13518               3     5              14\n",
       "13519        13519      13519               3     5               8\n",
       "13520        13520      13520               2     5              73\n",
       "13521        13521      13521               0     5             125\n",
       "13522        13522      13522               3     5              55\n",
       "\n",
       "[13523 rows x 5 columns]"
      ]
     },
     "execution_count": 105,
     "metadata": {},
     "output_type": "execute_result"
    }
   ],
   "source": [
    "questions = pd.read_csv('C:\\skilfactory\\questions.csv', sep=',')\n",
    "questions"
   ]
  },
  {
   "cell_type": "markdown",
   "metadata": {},
   "source": [
    "### Общая информация о DataFrame"
   ]
  },
  {
   "cell_type": "code",
   "execution_count": 106,
   "metadata": {},
   "outputs": [
    {
     "name": "stdout",
     "output_type": "stream",
     "text": [
      "<class 'pandas.core.frame.DataFrame'>\n",
      "RangeIndex: 13523 entries, 0 to 13522\n",
      "Data columns (total 5 columns):\n",
      " #   Column          Non-Null Count  Dtype \n",
      "---  ------          --------------  ----- \n",
      " 0   question_id     13523 non-null  int64 \n",
      " 1   bundle_id       13523 non-null  int64 \n",
      " 2   correct_answer  13523 non-null  int64 \n",
      " 3   part            13523 non-null  int64 \n",
      " 4   tags            13522 non-null  object\n",
      "dtypes: int64(4), object(1)\n",
      "memory usage: 528.4+ KB\n"
     ]
    }
   ],
   "source": [
    "questions.info()"
   ]
  },
  {
   "cell_type": "markdown",
   "metadata": {},
   "source": [
    "### Как вопросы распределены по различным частям теста TOEIC"
   ]
  },
  {
   "cell_type": "code",
   "execution_count": 107,
   "metadata": {},
   "outputs": [
    {
     "data": {
      "text/plain": [
       "5    5511\n",
       "2    1647\n",
       "3    1562\n",
       "4    1439\n",
       "6    1212\n",
       "7    1160\n",
       "1     992\n",
       "Name: part, dtype: int64"
      ]
     },
     "execution_count": 107,
     "metadata": {},
     "output_type": "execute_result"
    }
   ],
   "source": [
    "questions['part'].value_counts()"
   ]
  },
  {
   "cell_type": "markdown",
   "metadata": {},
   "source": [
    "Распределение вопросов по частям теста TOEIC:\n",
    "Часть 5 содержит наибольшее количество вопросов (5511), что составляет значительную часть всего набора данных.\n",
    "Часть 1 содержит наименьшее количество вопросов (992)."
   ]
  },
  {
   "cell_type": "markdown",
   "metadata": {},
   "source": [
    "### Распределение правильных ответов. Это поможет понять, какие ответы чаще всего являются правильными."
   ]
  },
  {
   "cell_type": "code",
   "execution_count": 108,
   "metadata": {},
   "outputs": [
    {
     "data": {
      "text/plain": [
       "0    3716\n",
       "3    3544\n",
       "1    3478\n",
       "2    2785\n",
       "Name: correct_answer, dtype: int64"
      ]
     },
     "execution_count": 108,
     "metadata": {},
     "output_type": "execute_result"
    }
   ],
   "source": [
    "questions['correct_answer'].value_counts()"
   ]
  },
  {
   "cell_type": "markdown",
   "metadata": {},
   "source": [
    "Распределение правильных ответов:\n",
    "Ответ “0” является наиболее частым правильным ответом (3716 раз)\n",
    "Ответ “2” является наименее частым правильным ответом (2785 раз)"
   ]
  },
  {
   "cell_type": "markdown",
   "metadata": {},
   "source": [
    "### Как вопросы распределены по различным группам (bundles)"
   ]
  },
  {
   "cell_type": "code",
   "execution_count": 109,
   "metadata": {},
   "outputs": [
    {
     "data": {
      "text/plain": [
       "7795    5\n",
       "6971    5\n",
       "7421    5\n",
       "7770    5\n",
       "8144    5\n",
       "       ..\n",
       "8385    1\n",
       "197     1\n",
       "6342    1\n",
       "4295    1\n",
       "0       1\n",
       "Name: bundle_id, Length: 9765, dtype: int64"
      ]
     },
     "execution_count": 109,
     "metadata": {},
     "output_type": "execute_result"
    }
   ],
   "source": [
    "questions['bundle_id'].value_counts()"
   ]
  },
  {
   "cell_type": "markdown",
   "metadata": {},
   "source": [
    "Распределение вопросов по группам (bundles):\n",
    "Большинство групп содержат только один вопрос, что указывает на большое разнообразие групп.\n",
    "Несколько групп содержат по 5 вопросов, что является максимальным количеством вопросов в одной группе."
   ]
  },
  {
   "cell_type": "markdown",
   "metadata": {},
   "source": [
    "### Распределение тегов, чтобы понять, какие теги наиболее часто встречаются"
   ]
  },
  {
   "cell_type": "code",
   "execution_count": 110,
   "metadata": {},
   "outputs": [
    {
     "data": {
      "text/plain": [
       "92     2269\n",
       "38     2256\n",
       "81     1969\n",
       "29     1707\n",
       "136    1033\n",
       "       ... \n",
       "34        6\n",
       "121       5\n",
       "63        5\n",
       "186       3\n",
       "86        1\n",
       "Length: 188, dtype: int64"
      ]
     },
     "execution_count": 110,
     "metadata": {},
     "output_type": "execute_result"
    }
   ],
   "source": [
    "questions['tags'].str.split(' ', expand=True).stack().value_counts()"
   ]
  },
  {
   "cell_type": "markdown",
   "metadata": {},
   "source": [
    "\n",
    "Распределение тегов:\n",
    "Теги “92” и “38” являются наиболее частыми, встречаясь 2269 и 2256 раз соответственно.\n",
    "Некоторые теги встречаются крайне редко, например, тег “86” встречается только один раз.\n",
    "Эти выводы могут помочь в дальнейшем анализе данных, например, в выявлении наиболее сложных частей теста или в оптимизации распределения вопросов по тесту. Если у вас есть конкретные вопросы или"
   ]
  },
  {
   "cell_type": "markdown",
   "metadata": {},
   "source": [
    "## train.csv"
   ]
  },
  {
   "cell_type": "code",
   "execution_count": 111,
   "metadata": {},
   "outputs": [],
   "source": [
    "# train = pd.read_csv(r'C:\\skilfactory\\train.csv', sep=',')\n",
    "# train.head()"
   ]
  },
  {
   "cell_type": "markdown",
   "metadata": {},
   "source": [
    " - Так как прочитать весь файл на моем персональном компьютере не получилось, возму первые 1000000 строк"
   ]
  },
  {
   "cell_type": "code",
   "execution_count": 112,
   "metadata": {},
   "outputs": [
    {
     "name": "stdout",
     "output_type": "stream",
     "text": [
      "   row_id  timestamp  user_id  content_id  content_type_id  task_container_id  \\\n",
      "0       0          0      115        5692                0                  1   \n",
      "1       1      56943      115        5716                0                  2   \n",
      "2       2     118363      115         128                0                  0   \n",
      "3       3     131167      115        7860                0                  3   \n",
      "4       4     137965      115        7922                0                  4   \n",
      "\n",
      "   user_answer  answered_correctly  prior_question_elapsed_time  \\\n",
      "0            3                   1                          NaN   \n",
      "1            2                   1                      37000.0   \n",
      "2            0                   1                      55000.0   \n",
      "3            0                   1                      19000.0   \n",
      "4            1                   1                      11000.0   \n",
      "\n",
      "  prior_question_had_explanation  \n",
      "0                            NaN  \n",
      "1                          False  \n",
      "2                          False  \n",
      "3                          False  \n",
      "4                          False  \n"
     ]
    }
   ],
   "source": [
    "chunksize = 1000000  # количество строк в одном куске\n",
    "for train in pd.read_csv(r'C:\\skilfactory\\train.csv', sep=',', chunksize=chunksize):\n",
    "    # обработка каждого куска\n",
    "    print(train.head())\n",
    "    break"
   ]
  },
  {
   "cell_type": "markdown",
   "metadata": {},
   "source": [
    "### Общая информация о DataFrame"
   ]
  },
  {
   "cell_type": "code",
   "execution_count": 113,
   "metadata": {},
   "outputs": [
    {
     "name": "stdout",
     "output_type": "stream",
     "text": [
      "<class 'pandas.core.frame.DataFrame'>\n",
      "RangeIndex: 1000000 entries, 0 to 999999\n",
      "Data columns (total 10 columns):\n",
      " #   Column                          Non-Null Count    Dtype  \n",
      "---  ------                          --------------    -----  \n",
      " 0   row_id                          1000000 non-null  int64  \n",
      " 1   timestamp                       1000000 non-null  int64  \n",
      " 2   user_id                         1000000 non-null  int64  \n",
      " 3   content_id                      1000000 non-null  int64  \n",
      " 4   content_type_id                 1000000 non-null  int64  \n",
      " 5   task_container_id               1000000 non-null  int64  \n",
      " 6   user_answer                     1000000 non-null  int64  \n",
      " 7   answered_correctly              1000000 non-null  int64  \n",
      " 8   prior_question_elapsed_time     976277 non-null   float64\n",
      " 9   prior_question_had_explanation  996184 non-null   object \n",
      "dtypes: float64(1), int64(8), object(1)\n",
      "memory usage: 76.3+ MB\n"
     ]
    }
   ],
   "source": [
    "train.info()"
   ]
  },
  {
   "cell_type": "markdown",
   "metadata": {},
   "source": [
    "### Описательная статистика"
   ]
  },
  {
   "cell_type": "code",
   "execution_count": 114,
   "metadata": {},
   "outputs": [
    {
     "data": {
      "text/html": [
       "<div>\n",
       "<style scoped>\n",
       "    .dataframe tbody tr th:only-of-type {\n",
       "        vertical-align: middle;\n",
       "    }\n",
       "\n",
       "    .dataframe tbody tr th {\n",
       "        vertical-align: top;\n",
       "    }\n",
       "\n",
       "    .dataframe thead th {\n",
       "        text-align: right;\n",
       "    }\n",
       "</style>\n",
       "<table border=\"1\" class=\"dataframe\">\n",
       "  <thead>\n",
       "    <tr style=\"text-align: right;\">\n",
       "      <th></th>\n",
       "      <th>row_id</th>\n",
       "      <th>timestamp</th>\n",
       "      <th>user_id</th>\n",
       "      <th>content_id</th>\n",
       "      <th>content_type_id</th>\n",
       "      <th>task_container_id</th>\n",
       "      <th>user_answer</th>\n",
       "      <th>answered_correctly</th>\n",
       "      <th>prior_question_elapsed_time</th>\n",
       "    </tr>\n",
       "  </thead>\n",
       "  <tbody>\n",
       "    <tr>\n",
       "      <th>count</th>\n",
       "      <td>1000000.000000</td>\n",
       "      <td>1.000000e+06</td>\n",
       "      <td>1.000000e+06</td>\n",
       "      <td>1000000.000000</td>\n",
       "      <td>1000000.000000</td>\n",
       "      <td>1000000.000000</td>\n",
       "      <td>1000000.000000</td>\n",
       "      <td>1000000.000000</td>\n",
       "      <td>976277.000000</td>\n",
       "    </tr>\n",
       "    <tr>\n",
       "      <th>mean</th>\n",
       "      <td>499999.500000</td>\n",
       "      <td>7.344311e+09</td>\n",
       "      <td>1.017255e+07</td>\n",
       "      <td>5232.691523</td>\n",
       "      <td>0.019907</td>\n",
       "      <td>806.105689</td>\n",
       "      <td>1.374784</td>\n",
       "      <td>0.617504</td>\n",
       "      <td>25302.962693</td>\n",
       "    </tr>\n",
       "    <tr>\n",
       "      <th>std</th>\n",
       "      <td>288675.278932</td>\n",
       "      <td>1.058693e+10</td>\n",
       "      <td>6.029234e+06</td>\n",
       "      <td>3882.323419</td>\n",
       "      <td>0.139681</td>\n",
       "      <td>1025.887530</td>\n",
       "      <td>1.194168</td>\n",
       "      <td>0.525364</td>\n",
       "      <td>19710.310227</td>\n",
       "    </tr>\n",
       "    <tr>\n",
       "      <th>min</th>\n",
       "      <td>0.000000</td>\n",
       "      <td>0.000000e+00</td>\n",
       "      <td>1.150000e+02</td>\n",
       "      <td>0.000000</td>\n",
       "      <td>0.000000</td>\n",
       "      <td>0.000000</td>\n",
       "      <td>-1.000000</td>\n",
       "      <td>-1.000000</td>\n",
       "      <td>0.000000</td>\n",
       "    </tr>\n",
       "    <tr>\n",
       "      <th>25%</th>\n",
       "      <td>249999.750000</td>\n",
       "      <td>5.211669e+08</td>\n",
       "      <td>4.702585e+06</td>\n",
       "      <td>2057.000000</td>\n",
       "      <td>0.000000</td>\n",
       "      <td>109.000000</td>\n",
       "      <td>0.000000</td>\n",
       "      <td>0.000000</td>\n",
       "      <td>16000.000000</td>\n",
       "    </tr>\n",
       "    <tr>\n",
       "      <th>50%</th>\n",
       "      <td>499999.500000</td>\n",
       "      <td>2.824811e+09</td>\n",
       "      <td>9.678259e+06</td>\n",
       "      <td>5052.000000</td>\n",
       "      <td>0.000000</td>\n",
       "      <td>391.000000</td>\n",
       "      <td>1.000000</td>\n",
       "      <td>1.000000</td>\n",
       "      <td>21000.000000</td>\n",
       "    </tr>\n",
       "    <tr>\n",
       "      <th>75%</th>\n",
       "      <td>749999.250000</td>\n",
       "      <td>1.010186e+10</td>\n",
       "      <td>1.556872e+07</td>\n",
       "      <td>7421.000000</td>\n",
       "      <td>0.000000</td>\n",
       "      <td>1112.000000</td>\n",
       "      <td>3.000000</td>\n",
       "      <td>1.000000</td>\n",
       "      <td>29666.000000</td>\n",
       "    </tr>\n",
       "    <tr>\n",
       "      <th>max</th>\n",
       "      <td>999999.000000</td>\n",
       "      <td>7.809200e+10</td>\n",
       "      <td>2.094902e+07</td>\n",
       "      <td>32736.000000</td>\n",
       "      <td>1.000000</td>\n",
       "      <td>7739.000000</td>\n",
       "      <td>3.000000</td>\n",
       "      <td>1.000000</td>\n",
       "      <td>300000.000000</td>\n",
       "    </tr>\n",
       "  </tbody>\n",
       "</table>\n",
       "</div>"
      ],
      "text/plain": [
       "               row_id     timestamp       user_id      content_id  \\\n",
       "count  1000000.000000  1.000000e+06  1.000000e+06  1000000.000000   \n",
       "mean    499999.500000  7.344311e+09  1.017255e+07     5232.691523   \n",
       "std     288675.278932  1.058693e+10  6.029234e+06     3882.323419   \n",
       "min          0.000000  0.000000e+00  1.150000e+02        0.000000   \n",
       "25%     249999.750000  5.211669e+08  4.702585e+06     2057.000000   \n",
       "50%     499999.500000  2.824811e+09  9.678259e+06     5052.000000   \n",
       "75%     749999.250000  1.010186e+10  1.556872e+07     7421.000000   \n",
       "max     999999.000000  7.809200e+10  2.094902e+07    32736.000000   \n",
       "\n",
       "       content_type_id  task_container_id     user_answer  answered_correctly  \\\n",
       "count   1000000.000000     1000000.000000  1000000.000000      1000000.000000   \n",
       "mean          0.019907         806.105689        1.374784            0.617504   \n",
       "std           0.139681        1025.887530        1.194168            0.525364   \n",
       "min           0.000000           0.000000       -1.000000           -1.000000   \n",
       "25%           0.000000         109.000000        0.000000            0.000000   \n",
       "50%           0.000000         391.000000        1.000000            1.000000   \n",
       "75%           0.000000        1112.000000        3.000000            1.000000   \n",
       "max           1.000000        7739.000000        3.000000            1.000000   \n",
       "\n",
       "       prior_question_elapsed_time  \n",
       "count                976277.000000  \n",
       "mean                  25302.962693  \n",
       "std                   19710.310227  \n",
       "min                       0.000000  \n",
       "25%                   16000.000000  \n",
       "50%                   21000.000000  \n",
       "75%                   29666.000000  \n",
       "max                  300000.000000  "
      ]
     },
     "execution_count": 114,
     "metadata": {},
     "output_type": "execute_result"
    }
   ],
   "source": [
    "train.describe()"
   ]
  },
  {
   "cell_type": "markdown",
   "metadata": {},
   "source": [
    " - Общее количество записей: У вас есть 1,000,000 записей в наборе данных.\n",
    " - Средние значения: Средние значения для различных столбцов, например, user_id имеет среднее значение около 10,172,550, а answered_correctly - 0.617504, что указывает на то, что примерно 61.75% ответов были правильными.\n",
    " - Стандартное отклонение: Стандартное отклонение показывает разброс данных. Например, для prior_question_elapsed_time оно составляет около 19,710, что указывает на значительную вариативность времени, затраченного на предыдущие вопросы.\n",
    " - Минимальные и максимальные значения: Минимальные и максимальные значения дают представление о диапазоне данных. Например, content_id варьируется от 0 до 32,736.\n",
    " - Квартильные значения: Квартильные значения (25%, 50%, 75%) помогают понять распределение данных. Например, 50% значений task_container_id находятся ниже 391.\n",
    " - Пропущенные значения: В столбцах prior_question_elapsed_time и prior_question_had_explanation есть пропущенные значения (23,723 и 3,816 соответственно).\n",
    " - Уникальные значения: Количество уникальных значений в различных столбцах, например, user_id имеет 3,824 уникальных значений, а content_id - 13,320."
   ]
  },
  {
   "cell_type": "code",
   "execution_count": 115,
   "metadata": {},
   "outputs": [
    {
     "data": {
      "text/html": [
       "<div>\n",
       "<style scoped>\n",
       "    .dataframe tbody tr th:only-of-type {\n",
       "        vertical-align: middle;\n",
       "    }\n",
       "\n",
       "    .dataframe tbody tr th {\n",
       "        vertical-align: top;\n",
       "    }\n",
       "\n",
       "    .dataframe thead th {\n",
       "        text-align: right;\n",
       "    }\n",
       "</style>\n",
       "<table border=\"1\" class=\"dataframe\">\n",
       "  <thead>\n",
       "    <tr style=\"text-align: right;\">\n",
       "      <th></th>\n",
       "      <th>prior_question_had_explanation</th>\n",
       "    </tr>\n",
       "  </thead>\n",
       "  <tbody>\n",
       "    <tr>\n",
       "      <th>count</th>\n",
       "      <td>996184</td>\n",
       "    </tr>\n",
       "    <tr>\n",
       "      <th>unique</th>\n",
       "      <td>2</td>\n",
       "    </tr>\n",
       "    <tr>\n",
       "      <th>top</th>\n",
       "      <td>True</td>\n",
       "    </tr>\n",
       "    <tr>\n",
       "      <th>freq</th>\n",
       "      <td>889887</td>\n",
       "    </tr>\n",
       "  </tbody>\n",
       "</table>\n",
       "</div>"
      ],
      "text/plain": [
       "       prior_question_had_explanation\n",
       "count                          996184\n",
       "unique                              2\n",
       "top                              True\n",
       "freq                           889887"
      ]
     },
     "execution_count": 115,
     "metadata": {},
     "output_type": "execute_result"
    }
   ],
   "source": [
    "train.describe(include='object')"
   ]
  },
  {
   "cell_type": "markdown",
   "metadata": {},
   "source": [
    "### Проверка на пропущенные значения"
   ]
  },
  {
   "cell_type": "code",
   "execution_count": 116,
   "metadata": {},
   "outputs": [
    {
     "data": {
      "text/plain": [
       "row_id                                0\n",
       "timestamp                             0\n",
       "user_id                               0\n",
       "content_id                            0\n",
       "content_type_id                       0\n",
       "task_container_id                     0\n",
       "user_answer                           0\n",
       "answered_correctly                    0\n",
       "prior_question_elapsed_time       23723\n",
       "prior_question_had_explanation     3816\n",
       "dtype: int64"
      ]
     },
     "execution_count": 116,
     "metadata": {},
     "output_type": "execute_result"
    }
   ],
   "source": [
    "train.isnull().sum()"
   ]
  },
  {
   "cell_type": "markdown",
   "metadata": {},
   "source": [
    "### Проверка на уникальные значения"
   ]
  },
  {
   "cell_type": "code",
   "execution_count": 117,
   "metadata": {},
   "outputs": [
    {
     "data": {
      "text/plain": [
       "row_id                            1000000\n",
       "timestamp                          769357\n",
       "user_id                              3824\n",
       "content_id                          13320\n",
       "content_type_id                         2\n",
       "task_container_id                    7740\n",
       "user_answer                             5\n",
       "answered_correctly                      3\n",
       "prior_question_elapsed_time          1659\n",
       "prior_question_had_explanation          2\n",
       "dtype: int64"
      ]
     },
     "execution_count": 117,
     "metadata": {},
     "output_type": "execute_result"
    }
   ],
   "source": [
    "train.nunique()"
   ]
  },
  {
   "cell_type": "markdown",
   "metadata": {},
   "source": [
    "### Распределение значений\n"
   ]
  },
  {
   "cell_type": "markdown",
   "metadata": {},
   "source": [
    "### Распределение правильных и неправильных ответов. Это поможет понять, насколько хорошо пользователи справляются с вопросами."
   ]
  },
  {
   "cell_type": "code",
   "execution_count": 118,
   "metadata": {},
   "outputs": [
    {
     "data": {
      "text/plain": [
       " 1    637411\n",
       " 0    342682\n",
       "-1     19907\n",
       "Name: answered_correctly, dtype: int64"
      ]
     },
     "execution_count": 118,
     "metadata": {},
     "output_type": "execute_result"
    }
   ],
   "source": [
    "train['answered_correctly'].value_counts()"
   ]
  },
  {
   "cell_type": "markdown",
   "metadata": {},
   "source": [
    "Большинство пользователей справляются с вопросами правильно"
   ]
  },
  {
   "cell_type": "markdown",
   "metadata": {},
   "source": [
    "### Как часто пользователи взаимодействуют с разными типами контента."
   ]
  },
  {
   "cell_type": "code",
   "execution_count": 119,
   "metadata": {},
   "outputs": [
    {
     "data": {
      "text/plain": [
       "0    980093\n",
       "1     19907\n",
       "Name: content_type_id, dtype: int64"
      ]
     },
     "execution_count": 119,
     "metadata": {},
     "output_type": "execute_result"
    }
   ],
   "source": [
    "train['content_type_id'].value_counts()"
   ]
  },
  {
   "cell_type": "markdown",
   "metadata": {},
   "source": [
    "Большинство взаимодействий происходит с контентом типа 0"
   ]
  },
  {
   "cell_type": "markdown",
   "metadata": {},
   "source": [
    "### Какие ответы наиболее популярны"
   ]
  },
  {
   "cell_type": "code",
   "execution_count": 120,
   "metadata": {},
   "outputs": [
    {
     "data": {
      "text/plain": [
       " 0    278205\n",
       " 1    267017\n",
       " 3    257932\n",
       " 2    176939\n",
       "-1     19907\n",
       "Name: user_answer, dtype: int64"
      ]
     },
     "execution_count": 120,
     "metadata": {},
     "output_type": "execute_result"
    }
   ],
   "source": [
    "train['user_answer'].value_counts()"
   ]
  },
  {
   "cell_type": "markdown",
   "metadata": {},
   "source": [
    "Ответы распределены довольно равномерно, с небольшим перевесом в сторону ответа 0"
   ]
  },
  {
   "cell_type": "markdown",
   "metadata": {},
   "source": [
    "### Насколько часто пользователи получают обратную связь"
   ]
  },
  {
   "cell_type": "code",
   "execution_count": 121,
   "metadata": {},
   "outputs": [
    {
     "data": {
      "text/plain": [
       "True     889887\n",
       "False    106297\n",
       "Name: prior_question_had_explanation, dtype: int64"
      ]
     },
     "execution_count": 121,
     "metadata": {},
     "output_type": "execute_result"
    }
   ],
   "source": [
    "train['prior_question_had_explanation'].value_counts()"
   ]
  },
  {
   "cell_type": "markdown",
   "metadata": {},
   "source": [
    "Большинство пользователей получают объяснения после вопросов"
   ]
  },
  {
   "cell_type": "markdown",
   "metadata": {},
   "source": [
    "### Насколько сложны вопросы"
   ]
  },
  {
   "cell_type": "code",
   "execution_count": 122,
   "metadata": {},
   "outputs": [
    {
     "data": {
      "text/plain": [
       "17000.0     50744\n",
       "16000.0     46949\n",
       "18000.0     46550\n",
       "19000.0     39580\n",
       "15000.0     35889\n",
       "            ...  \n",
       "144600.0        1\n",
       "254667.0        1\n",
       "99333.0         1\n",
       "146200.0        1\n",
       "124600.0        1\n",
       "Name: prior_question_elapsed_time, Length: 1659, dtype: int64"
      ]
     },
     "execution_count": 122,
     "metadata": {},
     "output_type": "execute_result"
    }
   ],
   "source": [
    "train['prior_question_elapsed_time'].value_counts()"
   ]
  },
  {
   "cell_type": "markdown",
   "metadata": {},
   "source": [
    "Время на предыдущий вопрос варьируется, но чаще всего оно составляет около 17,000 мс."
   ]
  },
  {
   "cell_type": "markdown",
   "metadata": {},
   "source": [
    "### Cреднее и медианное время, затраченное на предыдущие вопросы для каждого пользователя"
   ]
  },
  {
   "cell_type": "code",
   "execution_count": 123,
   "metadata": {},
   "outputs": [
    {
     "name": "stdout",
     "output_type": "stream",
     "text": [
      "                  mean   median\n",
      "user_id                        \n",
      "115       19933.311111  20000.0\n",
      "124       18793.000000  21000.0\n",
      "2746      18055.555556  17500.0\n",
      "5382      36048.387097  25000.0\n",
      "8623      26107.407407  20000.0\n",
      "...                ...      ...\n",
      "20913319  27666.629723  23000.0\n",
      "20913864  18200.000000  16000.0\n",
      "20938253  22630.590822  15000.0\n",
      "20948951  19860.000000  18500.0\n",
      "20949024  32757.021277  22000.0\n",
      "\n",
      "[3824 rows x 2 columns]\n"
     ]
    }
   ],
   "source": [
    "user_time_stats = train.groupby('user_id')['prior_question_elapsed_time'].agg(['mean', 'median'])\n",
    "print(user_time_stats)"
   ]
  },
  {
   "cell_type": "markdown",
   "metadata": {},
   "source": [
    "### Корреляция признаков"
   ]
  },
  {
   "cell_type": "code",
   "execution_count": 124,
   "metadata": {},
   "outputs": [
    {
     "data": {
      "text/html": [
       "<div>\n",
       "<style scoped>\n",
       "    .dataframe tbody tr th:only-of-type {\n",
       "        vertical-align: middle;\n",
       "    }\n",
       "\n",
       "    .dataframe tbody tr th {\n",
       "        vertical-align: top;\n",
       "    }\n",
       "\n",
       "    .dataframe thead th {\n",
       "        text-align: right;\n",
       "    }\n",
       "</style>\n",
       "<table border=\"1\" class=\"dataframe\">\n",
       "  <thead>\n",
       "    <tr style=\"text-align: right;\">\n",
       "      <th></th>\n",
       "      <th>row_id</th>\n",
       "      <th>timestamp</th>\n",
       "      <th>user_id</th>\n",
       "      <th>content_id</th>\n",
       "      <th>content_type_id</th>\n",
       "      <th>task_container_id</th>\n",
       "      <th>user_answer</th>\n",
       "      <th>answered_correctly</th>\n",
       "      <th>prior_question_elapsed_time</th>\n",
       "    </tr>\n",
       "  </thead>\n",
       "  <tbody>\n",
       "    <tr>\n",
       "      <th>row_id</th>\n",
       "      <td>1.000000</td>\n",
       "      <td>-0.000843</td>\n",
       "      <td>0.999057</td>\n",
       "      <td>-0.006783</td>\n",
       "      <td>0.004011</td>\n",
       "      <td>-0.071142</td>\n",
       "      <td>-0.002382</td>\n",
       "      <td>-0.015589</td>\n",
       "      <td>0.016242</td>\n",
       "    </tr>\n",
       "    <tr>\n",
       "      <th>timestamp</th>\n",
       "      <td>-0.000843</td>\n",
       "      <td>1.000000</td>\n",
       "      <td>-0.001041</td>\n",
       "      <td>0.032189</td>\n",
       "      <td>0.007441</td>\n",
       "      <td>0.364525</td>\n",
       "      <td>-0.001796</td>\n",
       "      <td>0.027571</td>\n",
       "      <td>0.016144</td>\n",
       "    </tr>\n",
       "    <tr>\n",
       "      <th>user_id</th>\n",
       "      <td>0.999057</td>\n",
       "      <td>-0.001041</td>\n",
       "      <td>1.000000</td>\n",
       "      <td>-0.007103</td>\n",
       "      <td>0.004102</td>\n",
       "      <td>-0.072862</td>\n",
       "      <td>-0.002361</td>\n",
       "      <td>-0.014776</td>\n",
       "      <td>0.016981</td>\n",
       "    </tr>\n",
       "    <tr>\n",
       "      <th>content_id</th>\n",
       "      <td>-0.006783</td>\n",
       "      <td>0.032189</td>\n",
       "      <td>-0.007103</td>\n",
       "      <td>1.000000</td>\n",
       "      <td>0.420121</td>\n",
       "      <td>0.062908</td>\n",
       "      <td>-0.110374</td>\n",
       "      <td>-0.203327</td>\n",
       "      <td>0.149778</td>\n",
       "    </tr>\n",
       "    <tr>\n",
       "      <th>content_type_id</th>\n",
       "      <td>0.004011</td>\n",
       "      <td>0.007441</td>\n",
       "      <td>0.004102</td>\n",
       "      <td>0.420121</td>\n",
       "      <td>1.000000</td>\n",
       "      <td>-0.013024</td>\n",
       "      <td>-0.283418</td>\n",
       "      <td>-0.438788</td>\n",
       "      <td>NaN</td>\n",
       "    </tr>\n",
       "    <tr>\n",
       "      <th>task_container_id</th>\n",
       "      <td>-0.071142</td>\n",
       "      <td>0.364525</td>\n",
       "      <td>-0.072862</td>\n",
       "      <td>0.062908</td>\n",
       "      <td>-0.013024</td>\n",
       "      <td>1.000000</td>\n",
       "      <td>0.012135</td>\n",
       "      <td>0.039130</td>\n",
       "      <td>-0.043670</td>\n",
       "    </tr>\n",
       "    <tr>\n",
       "      <th>user_answer</th>\n",
       "      <td>-0.002382</td>\n",
       "      <td>-0.001796</td>\n",
       "      <td>-0.002361</td>\n",
       "      <td>-0.110374</td>\n",
       "      <td>-0.283418</td>\n",
       "      <td>0.012135</td>\n",
       "      <td>1.000000</td>\n",
       "      <td>0.126721</td>\n",
       "      <td>0.014283</td>\n",
       "    </tr>\n",
       "    <tr>\n",
       "      <th>answered_correctly</th>\n",
       "      <td>-0.015589</td>\n",
       "      <td>0.027571</td>\n",
       "      <td>-0.014776</td>\n",
       "      <td>-0.203327</td>\n",
       "      <td>-0.438788</td>\n",
       "      <td>0.039130</td>\n",
       "      <td>0.126721</td>\n",
       "      <td>1.000000</td>\n",
       "      <td>0.003251</td>\n",
       "    </tr>\n",
       "    <tr>\n",
       "      <th>prior_question_elapsed_time</th>\n",
       "      <td>0.016242</td>\n",
       "      <td>0.016144</td>\n",
       "      <td>0.016981</td>\n",
       "      <td>0.149778</td>\n",
       "      <td>NaN</td>\n",
       "      <td>-0.043670</td>\n",
       "      <td>0.014283</td>\n",
       "      <td>0.003251</td>\n",
       "      <td>1.000000</td>\n",
       "    </tr>\n",
       "  </tbody>\n",
       "</table>\n",
       "</div>"
      ],
      "text/plain": [
       "                               row_id  timestamp   user_id  content_id  \\\n",
       "row_id                       1.000000  -0.000843  0.999057   -0.006783   \n",
       "timestamp                   -0.000843   1.000000 -0.001041    0.032189   \n",
       "user_id                      0.999057  -0.001041  1.000000   -0.007103   \n",
       "content_id                  -0.006783   0.032189 -0.007103    1.000000   \n",
       "content_type_id              0.004011   0.007441  0.004102    0.420121   \n",
       "task_container_id           -0.071142   0.364525 -0.072862    0.062908   \n",
       "user_answer                 -0.002382  -0.001796 -0.002361   -0.110374   \n",
       "answered_correctly          -0.015589   0.027571 -0.014776   -0.203327   \n",
       "prior_question_elapsed_time  0.016242   0.016144  0.016981    0.149778   \n",
       "\n",
       "                             content_type_id  task_container_id  user_answer  \\\n",
       "row_id                              0.004011          -0.071142    -0.002382   \n",
       "timestamp                           0.007441           0.364525    -0.001796   \n",
       "user_id                             0.004102          -0.072862    -0.002361   \n",
       "content_id                          0.420121           0.062908    -0.110374   \n",
       "content_type_id                     1.000000          -0.013024    -0.283418   \n",
       "task_container_id                  -0.013024           1.000000     0.012135   \n",
       "user_answer                        -0.283418           0.012135     1.000000   \n",
       "answered_correctly                 -0.438788           0.039130     0.126721   \n",
       "prior_question_elapsed_time              NaN          -0.043670     0.014283   \n",
       "\n",
       "                             answered_correctly  prior_question_elapsed_time  \n",
       "row_id                                -0.015589                     0.016242  \n",
       "timestamp                              0.027571                     0.016144  \n",
       "user_id                               -0.014776                     0.016981  \n",
       "content_id                            -0.203327                     0.149778  \n",
       "content_type_id                       -0.438788                          NaN  \n",
       "task_container_id                      0.039130                    -0.043670  \n",
       "user_answer                            0.126721                     0.014283  \n",
       "answered_correctly                     1.000000                     0.003251  \n",
       "prior_question_elapsed_time            0.003251                     1.000000  "
      ]
     },
     "execution_count": 124,
     "metadata": {},
     "output_type": "execute_result"
    }
   ],
   "source": [
    "train.corr()"
   ]
  },
  {
   "cell_type": "markdown",
   "metadata": {},
   "source": [
    "### Корреляция prior_question_elapsed_time с content_id:\n",
    "Корреляция 0.151661 указывает на слабую связь между временем, затраченным на предыдущий вопрос, и идентификатором контента. Это может означать, что некоторые типы контента требуют больше времени для ответа."
   ]
  },
  {
   "cell_type": "code",
   "execution_count": 125,
   "metadata": {},
   "outputs": [
    {
     "data": {
      "text/plain": [
       "0             NaN\n",
       "1         37000.0\n",
       "2         55000.0\n",
       "3         19000.0\n",
       "4         11000.0\n",
       "           ...   \n",
       "999995    14000.0\n",
       "999996    17000.0\n",
       "999997    18000.0\n",
       "999998     6000.0\n",
       "999999    46000.0\n",
       "Name: prior_question_elapsed_time, Length: 980093, dtype: float64"
      ]
     },
     "execution_count": 125,
     "metadata": {},
     "output_type": "execute_result"
    }
   ],
   "source": [
    "train[train['content_type_id'] == 0]['prior_question_elapsed_time']"
   ]
  },
  {
   "cell_type": "code",
   "execution_count": 126,
   "metadata": {},
   "outputs": [],
   "source": [
    "user_time_stats = train[train['content_type_id'] == 0]['prior_question_elapsed_time'].dropna()"
   ]
  },
  {
   "cell_type": "code",
   "execution_count": 127,
   "metadata": {},
   "outputs": [
    {
     "name": "stdout",
     "output_type": "stream",
     "text": [
      "Mean: 25302.962692965215, Median: 21000.0, Min: 0.0, Max: 300000.0\n"
     ]
    }
   ],
   "source": [
    "mean_time = user_time_stats.mean()\n",
    "median_time = user_time_stats.median()\n",
    "min_time = user_time_stats.min()\n",
    "max_time = user_time_stats.max()\n",
    "print(f\"Mean: {mean_time}, Median: {median_time}, Min: {min_time}, Max: {max_time}\")\n"
   ]
  },
  {
   "cell_type": "markdown",
   "metadata": {},
   "source": [
    "Значительное различие между минимальным и максимальным временем также подтверждает - \n",
    "НАЛИЧИЕ ВЫБРОСОВ"
   ]
  },
  {
   "cell_type": "markdown",
   "metadata": {},
   "source": [
    " ### Анализ времени ответа"
   ]
  },
  {
   "cell_type": "code",
   "execution_count": 128,
   "metadata": {},
   "outputs": [
    {
     "name": "stdout",
     "output_type": "stream",
     "text": [
      "Среднее время ответа для правильных ответов: 25349.965657657205\n",
      "Среднее время ответа для неправильных ответов: 25215.579462489346\n"
     ]
    }
   ],
   "source": [
    "questions = train[train['content_type_id'] == 0]\n",
    "\n",
    "correct = questions[questions['answered_correctly'] == 1]['prior_question_elapsed_time'].mean()\n",
    "incorrect = questions[questions['answered_correctly'] == 0]['prior_question_elapsed_time'].mean()\n",
    "print(f'Среднее время ответа для правильных ответов: {correct}')\n",
    "print(f'Среднее время ответа для неправильных ответов: {incorrect}')"
   ]
  },
  {
   "cell_type": "markdown",
   "metadata": {},
   "source": [
    "### Влияние лекций на результаты"
   ]
  },
  {
   "cell_type": "code",
   "execution_count": 129,
   "metadata": {},
   "outputs": [
    {
     "name": "stdout",
     "output_type": "stream",
     "text": [
      "count    1475.000000\n",
      "mean       -0.234956\n",
      "std         0.329923\n",
      "min        -1.054348\n",
      "25%        -0.493459\n",
      "50%        -0.277711\n",
      "75%        -0.026844\n",
      "max         0.812500\n",
      "dtype: float64\n"
     ]
    }
   ],
   "source": [
    "train['is_lecture'] = train['content_type_id'] == 1\n",
    "train['next_is_lecture'] = train['is_lecture'].shift(-1).fillna(False)\n",
    "\n",
    "\n",
    "user_correctness = train.groupby('user_id')['answered_correctly'].mean()\n",
    "lecture_effect = train.groupby('user_id').apply(lambda x: x[x['next_is_lecture']]['answered_correctly'].mean() - x[~x['next_is_lecture']]['answered_correctly'].mean())\n",
    "print(lecture_effect.describe())"
   ]
  },
  {
   "cell_type": "markdown",
   "metadata": {},
   "source": [
    " - Среднее значение влияния лекций на правильность ответов -0.234956.\n",
    "В среднем студенты, которые посещают лекции, показывают результаты на 23.5% хуже по сравнению с теми, кто не посещает лекции.\n",
    " \n",
    " - Стандартное отклонение составляет 0.329923.\n",
    "Влияние лекций на результаты студентов сильно варьируется.\n",
    "\n",
    " - Квартильные значения:\n",
    "25-й процентиль: -0.493459\n",
    "50-й процентиль (медиана): -0.277711\n",
    "75-й процентиль: -0.026844\n",
    "\n",
    "У большинства студентов влияние лекций на результаты отрицательное, но у некоторых студентов оно может быть положительным.\n",
    "\n",
    "У некоторых студентов лекции могут значительно ухудшать результаты, в то время как у других они могут улучшать.\n",
    "Наверно стоит проветить качество лекций"
   ]
  },
  {
   "cell_type": "code",
   "execution_count": null,
   "metadata": {},
   "outputs": [],
   "source": [
    "user_sequences = train.groupby('user_id')['content_id'].apply(list)\n",
    "print(user_sequences.head())"
   ]
  },
  {
   "cell_type": "markdown",
   "metadata": {},
   "source": [
    "Последовательности контента: Анализ последовательностей контента показывает , какие лекции и материалы проходят студенты. \n",
    "Это может быть полезно для дальнейшего анализа, чтобы понять, какие конкретные лекции или материалы оказывают влияние."
   ]
  }
 ],
 "metadata": {
  "kernelspec": {
   "display_name": "Python 3",
   "language": "python",
   "name": "python3"
  },
  "language_info": {
   "codemirror_mode": {
    "name": "ipython",
    "version": 3
   },
   "file_extension": ".py",
   "mimetype": "text/x-python",
   "name": "python",
   "nbconvert_exporter": "python",
   "pygments_lexer": "ipython3",
   "version": "3.7.9"
  }
 },
 "nbformat": 4,
 "nbformat_minor": 4
}
